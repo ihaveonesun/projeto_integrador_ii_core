{
 "cells": [
  {
   "cell_type": "markdown",
   "id": "2aac7215",
   "metadata": {},
   "source": [
    "algoritmo que: \n",
    "* a gestão de filas de espera em hospitais envolve a classificação de risco e priorização dos pacientes;\n",
    "* monitorar a quantidade de pessoas inscritas e o tempo de espera;\n",
    "* definir a prioridade de atendimento. Cada cor tem um tempo de espera tolerável, que indica a gravidade do caso:\n",
    "    * Vermelho: risco de morte, atendimento imediato;\n",
    "     * Laranja: tempo de espera tolerável de até 10 minutos;\n",
    "    * Amarelo: tempo de espera tolerável de até 20 minutos;\n",
    "    * Verde: não há risco de morte, tempo de espera tolerável de até 60 minutos;\n",
    "    * Azul: quadros crônicos, encaminhamento ao centro de saúde, tempo de espera tolerável de até 180 minutos.\n",
    "* organize a agenda de pacientes, devendo considerar:\n",
    "    * o número de consultas marcadas;\n",
    "    * o tempo médio de duração e a previsão de contratempos.\n",
    "* a capacitação dos profissionais de saúde influencia no tamanho das filas."
   ]
  },
  {
   "cell_type": "markdown",
   "id": "47ff7d8a",
   "metadata": {},
   "source": [
    "Em observação à lei abaixo, esta será considerada na implementação do algoritmo:\n",
    "* A Lei 10.048/00 garante atendimento prioritário a idosos com 60 anos ou mais na administração pública.\n",
    "* Também inclui pessoas do seguinte perfil: deficientes, gestantes, lactantes, pessoas com crianças de colo e obesos.\n",
    "* Todavia, indivíduos com idade 80+ tem preferência sob todos os demais."
   ]
  },
  {
   "cell_type": "code",
   "execution_count": 1,
   "id": "6751e4e7",
   "metadata": {},
   "outputs": [],
   "source": [
    "# !pip install faker\n",
    "from faker import Faker\n",
    "import random\n",
    "\n",
    "import time\n",
    "\n",
    "import pandas as pd\n",
    "import datetime"
   ]
  },
  {
   "cell_type": "markdown",
   "id": "739b6e7f",
   "metadata": {},
   "source": [
    "### Gerando dados para teste"
   ]
  },
  {
   "cell_type": "code",
   "execution_count": 126,
   "id": "bf456f66",
   "metadata": {},
   "outputs": [
    {
     "data": {
      "text/html": [
       "<div>\n",
       "<style scoped>\n",
       "    .dataframe tbody tr th:only-of-type {\n",
       "        vertical-align: middle;\n",
       "    }\n",
       "\n",
       "    .dataframe tbody tr th {\n",
       "        vertical-align: top;\n",
       "    }\n",
       "\n",
       "    .dataframe thead th {\n",
       "        text-align: right;\n",
       "    }\n",
       "</style>\n",
       "<table border=\"1\" class=\"dataframe\">\n",
       "  <thead>\n",
       "    <tr style=\"text-align: right;\">\n",
       "      <th></th>\n",
       "      <th>Nome</th>\n",
       "      <th>Nascimento</th>\n",
       "      <th>Prioridade</th>\n",
       "      <th>Entrada</th>\n",
       "      <th>Especialidade</th>\n",
       "      <th>TMA</th>\n",
       "      <th>Risco</th>\n",
       "    </tr>\n",
       "  </thead>\n",
       "  <tbody>\n",
       "    <tr>\n",
       "      <th>0</th>\n",
       "      <td>Bella</td>\n",
       "      <td>1965-12-09</td>\n",
       "      <td>False</td>\n",
       "      <td>2024-10-29 09:18:28.703138</td>\n",
       "      <td>neurologia</td>\n",
       "      <td>30</td>\n",
       "      <td>1</td>\n",
       "    </tr>\n",
       "    <tr>\n",
       "      <th>1</th>\n",
       "      <td>Renan</td>\n",
       "      <td>1960-12-17</td>\n",
       "      <td>True</td>\n",
       "      <td>2024-10-29 04:23:48.703138</td>\n",
       "      <td>neurologia</td>\n",
       "      <td>45</td>\n",
       "      <td>2</td>\n",
       "    </tr>\n",
       "    <tr>\n",
       "      <th>2</th>\n",
       "      <td>Luana</td>\n",
       "      <td>1948-04-13</td>\n",
       "      <td>True</td>\n",
       "      <td>2024-10-28 21:28:02.703138</td>\n",
       "      <td>cardiologia</td>\n",
       "      <td>60</td>\n",
       "      <td>3</td>\n",
       "    </tr>\n",
       "    <tr>\n",
       "      <th>3</th>\n",
       "      <td>Rafaela</td>\n",
       "      <td>1953-05-23</td>\n",
       "      <td>False</td>\n",
       "      <td>2024-10-29 10:48:59.703138</td>\n",
       "      <td>oftalmologia</td>\n",
       "      <td>45</td>\n",
       "      <td>4</td>\n",
       "    </tr>\n",
       "    <tr>\n",
       "      <th>4</th>\n",
       "      <td>Lívia</td>\n",
       "      <td>1992-02-23</td>\n",
       "      <td>True</td>\n",
       "      <td>2024-10-29 00:27:41.703138</td>\n",
       "      <td>neurologia</td>\n",
       "      <td>45</td>\n",
       "      <td>2</td>\n",
       "    </tr>\n",
       "    <tr>\n",
       "      <th>...</th>\n",
       "      <td>...</td>\n",
       "      <td>...</td>\n",
       "      <td>...</td>\n",
       "      <td>...</td>\n",
       "      <td>...</td>\n",
       "      <td>...</td>\n",
       "      <td>...</td>\n",
       "    </tr>\n",
       "    <tr>\n",
       "      <th>95</th>\n",
       "      <td>Henry Gabriel</td>\n",
       "      <td>1948-12-24</td>\n",
       "      <td>False</td>\n",
       "      <td>2024-10-29 08:11:25.706137</td>\n",
       "      <td>dermatologia</td>\n",
       "      <td>15</td>\n",
       "      <td>4</td>\n",
       "    </tr>\n",
       "    <tr>\n",
       "      <th>96</th>\n",
       "      <td>Marcos Vinicius</td>\n",
       "      <td>1992-10-07</td>\n",
       "      <td>False</td>\n",
       "      <td>2024-10-28 17:54:39.706137</td>\n",
       "      <td>dermatologia</td>\n",
       "      <td>45</td>\n",
       "      <td>3</td>\n",
       "    </tr>\n",
       "    <tr>\n",
       "      <th>97</th>\n",
       "      <td>Stella</td>\n",
       "      <td>1964-09-16</td>\n",
       "      <td>False</td>\n",
       "      <td>2024-10-28 18:51:14.706137</td>\n",
       "      <td>neurologia</td>\n",
       "      <td>15</td>\n",
       "      <td>4</td>\n",
       "    </tr>\n",
       "    <tr>\n",
       "      <th>98</th>\n",
       "      <td>Dante</td>\n",
       "      <td>1999-08-25</td>\n",
       "      <td>True</td>\n",
       "      <td>2024-10-29 02:42:14.706137</td>\n",
       "      <td>neurologia</td>\n",
       "      <td>60</td>\n",
       "      <td>2</td>\n",
       "    </tr>\n",
       "    <tr>\n",
       "      <th>99</th>\n",
       "      <td>Rafael</td>\n",
       "      <td>1987-04-15</td>\n",
       "      <td>False</td>\n",
       "      <td>2024-10-28 19:34:50.706137</td>\n",
       "      <td>pediatria</td>\n",
       "      <td>15</td>\n",
       "      <td>4</td>\n",
       "    </tr>\n",
       "  </tbody>\n",
       "</table>\n",
       "<p>100 rows × 7 columns</p>\n",
       "</div>"
      ],
      "text/plain": [
       "               Nome  Nascimento  Prioridade                    Entrada  \\\n",
       "0             Bella  1965-12-09       False 2024-10-29 09:18:28.703138   \n",
       "1             Renan  1960-12-17        True 2024-10-29 04:23:48.703138   \n",
       "2             Luana  1948-04-13        True 2024-10-28 21:28:02.703138   \n",
       "3           Rafaela  1953-05-23       False 2024-10-29 10:48:59.703138   \n",
       "4             Lívia  1992-02-23        True 2024-10-29 00:27:41.703138   \n",
       "..              ...         ...         ...                        ...   \n",
       "95    Henry Gabriel  1948-12-24       False 2024-10-29 08:11:25.706137   \n",
       "96  Marcos Vinicius  1992-10-07       False 2024-10-28 17:54:39.706137   \n",
       "97           Stella  1964-09-16       False 2024-10-28 18:51:14.706137   \n",
       "98            Dante  1999-08-25        True 2024-10-29 02:42:14.706137   \n",
       "99           Rafael  1987-04-15       False 2024-10-28 19:34:50.706137   \n",
       "\n",
       "   Especialidade  TMA  Risco  \n",
       "0     neurologia   30      1  \n",
       "1     neurologia   45      2  \n",
       "2    cardiologia   60      3  \n",
       "3   oftalmologia   45      4  \n",
       "4     neurologia   45      2  \n",
       "..           ...  ...    ...  \n",
       "95  dermatologia   15      4  \n",
       "96  dermatologia   45      3  \n",
       "97    neurologia   15      4  \n",
       "98    neurologia   60      2  \n",
       "99     pediatria   15      4  \n",
       "\n",
       "[100 rows x 7 columns]"
      ]
     },
     "execution_count": 126,
     "metadata": {},
     "output_type": "execute_result"
    }
   ],
   "source": [
    "# Inicializando o Faker e configurando para nomes em português\n",
    "fake = Faker(\"pt_BR\")\n",
    "\n",
    "# Inicializando as listas\n",
    "\n",
    "lista_nomes = []          # string: primeiro nome\n",
    "lista_dt_nascimento = []  # date: a data de nascimento\n",
    "lista_prioridade = []     # bool: False para NÃO; True para SIM\n",
    "lista_dt_entrada = []     # datetime, indicando o horário de cadastro\n",
    "lista_especialidade = []  # string: especialidade médica (geral, neurologia, oftalmologista etc)\n",
    "lista_tma = []            # int: minutos com o tempo médio de atendimento para cada especialidade\n",
    "lista_class_risco = []    # string: vermelho, laranja, amarelo, verde, azul\n",
    "\n",
    "lista_colunas = ['Nome', 'Nascimento', 'Prioridade', 'Entrada', 'Especialidade', 'TMA', 'Risco']\n",
    "df = pd.DataFrame(columns=lista_colunas)\n",
    "\n",
    "# Opções para os campos\n",
    "especialidades_exemplo = [\"geral\", \"neurologia\", \"oftalmologia\", \"cardiologia\", \"dermatologia\", \"pediatria\"]\n",
    "#class_risco_exemplo = [\"vermelho\", \"laranja\", \"amarelo\", \"verde\", \"azul\"]\n",
    "class_risco_exemplo = [4, 3, 2, 1, 0]\n",
    "# Função para gerar uma data de nascimento aleatória\n",
    "def gerar_data_nascimento():\n",
    "    start_date = datetime.date(1940, 1, 1)\n",
    "    end_date = datetime.date(2005, 12, 31)\n",
    "    return start_date + datetime.timedelta(days=random.randint(0, (end_date - start_date).days))\n",
    "\n",
    "# Função para gerar uma data de entrada aleatória com horário\n",
    "def gerar_data_entrada():\n",
    "    now = datetime.datetime.now()\n",
    "    delta_days = random.randint(0, 0)\n",
    "    delta_seconds = random.randint(0, 86400)  # Número de segundos no dia\n",
    "    return now - datetime.timedelta(days=delta_days, seconds=delta_seconds)\n",
    "\n",
    "# Populando as listas com 100 registros\n",
    "for _ in range(100):\n",
    "    lista_nomes.append(fake.first_name())  # Gera um primeiro nome aleatório em português\n",
    "    lista_dt_nascimento.append(gerar_data_nascimento())\n",
    "    lista_prioridade.append(random.choice([True, False]))\n",
    "    lista_dt_entrada.append(gerar_data_entrada())\n",
    "    lista_especialidade.append(random.choice(especialidades_exemplo))\n",
    "    lista_tma.append(random.choice([15, 30, 45, 60]))  # Tempo médio de atendimento entre 10 e 60 minutos\n",
    "    lista_class_risco.append(random.choice(class_risco_exemplo))\n",
    "    \n",
    "lista_dados = [lista_nomes, lista_dt_nascimento, lista_prioridade, lista_dt_entrada,\n",
    "               lista_especialidade, lista_tma, lista_class_risco]\n",
    "    \n",
    "for i, coluna in enumerate(lista_colunas):\n",
    "    df[coluna] = lista_dados[i]\n",
    "\n",
    "df"
   ]
  },
  {
   "cell_type": "markdown",
   "id": "aa2323cc",
   "metadata": {},
   "source": [
    "### Iniciando funções e classes"
   ]
  },
  {
   "cell_type": "code",
   "execution_count": 78,
   "id": "9c30087d",
   "metadata": {},
   "outputs": [],
   "source": [
    "class Fila():\n",
    "    def __init__(self):\n",
    "        self.data = []\n",
    "\n",
    "    def inserir(self, x, indice=''):\n",
    "        if indice == '': self.data.append(x)\n",
    "        else: self.data.insert(indice, x)\n",
    "\n",
    "    def remover(self):\n",
    "        if len(self.data) > 0:\n",
    "            return self.data.pop(0)\n",
    "\n",
    "    def topo(self):\n",
    "        if len(self.data) > 0:\n",
    "            return self.data[0]\n",
    "\n",
    "    def vazio(self):\n",
    "        return not len(self.data) > 0\n",
    "    \n",
    "    def quantidade(self):\n",
    "        return len(self.data)\n",
    "\n",
    "    def exibir(self):\n",
    "        return list(self.data)\n",
    "    \n",
    "    \n",
    "    \n",
    "def calc_idade(nascido):\n",
    "    \"\"\"\n",
    "    Calcula a idade de um cliente com base na data de nascimento fornecida.\n",
    "\n",
    "    A função calcula a idade atual do cliente subtraindo o ano de nascimento do\n",
    "    ano atual. Ajusta a idade caso o mês e o dia de nascimento ainda não tenham\n",
    "    ocorrido no ano atual.\n",
    "\n",
    "    Parâmetros:\n",
    "    - nascido (datetime.date): A data de nascimento do cliente.\n",
    "\n",
    "    Retorna:\n",
    "    - int: A idade do usuário em anos.\n",
    "    \"\"\"\n",
    "    \n",
    "    now = datetime.datetime.now()\n",
    "    return now.year - nascido.year - ((now.month, now.day) < (nascido.month, nascido.day))"
   ]
  },
  {
   "cell_type": "markdown",
   "id": "ce9e7ced",
   "metadata": {},
   "source": [
    "Há duas, principais, alternativas: \n",
    "1. Trabalhar com uma única fila, e dentro desta operar inserções e remanejos conforme necessário para adequar aos três graus de prioridades.\n",
    "2. Fazer uso de três filas, uma para cada prioridade, mais intuitivo e fácil de implementar.\n",
    "\n",
    "Neste primeiro momento, acabarei optando pela segunda alternativa."
   ]
  },
  {
   "cell_type": "code",
   "execution_count": 14,
   "id": "19b43a61",
   "metadata": {},
   "outputs": [],
   "source": [
    "# iniciando cada objeto fila\n",
    "\n",
    "fila_normal = Fila()\n",
    "fila_priori1 = Fila()\n",
    "fila_priori2 = Fila()"
   ]
  },
  {
   "cell_type": "code",
   "execution_count": 15,
   "id": "ec69a8ee",
   "metadata": {},
   "outputs": [],
   "source": [
    "# simulando a inserção de vários registros, em cada fila baseado na PREFERENCIA\n",
    "\n",
    "for row in df.iterrows():    \n",
    "    user = row[1].copy()\n",
    "    \n",
    "    idade = calc_idade(user['Nascimento'])\n",
    "    user['Idade'] = idade\n",
    "    senha = str(user['Especialidade'][:5]+'-'+str(row[0])).upper()\n",
    "    if idade >= 80:        \n",
    "        user['Senha'] = 'PE-'+senha    # PE > Prioridade Extra\n",
    "        fila_priori2.inserir(user)\n",
    "    elif idade >= 60 or user.Prioridade:\n",
    "        user['Senha'] = 'P-'+senha\n",
    "        fila_priori1.inserir(user)\n",
    "    else: fila_normal.inserir(user)"
   ]
  },
  {
   "cell_type": "code",
   "execution_count": 16,
   "id": "c3c189e6",
   "metadata": {},
   "outputs": [
    {
     "data": {
      "text/plain": [
       "35"
      ]
     },
     "execution_count": 16,
     "metadata": {},
     "output_type": "execute_result"
    }
   ],
   "source": [
    "fila_normal.quantidade()"
   ]
  },
  {
   "cell_type": "code",
   "execution_count": 17,
   "id": "ada509d8",
   "metadata": {},
   "outputs": [
    {
     "data": {
      "text/plain": [
       "60"
      ]
     },
     "execution_count": 17,
     "metadata": {},
     "output_type": "execute_result"
    }
   ],
   "source": [
    "fila_priori1.quantidade()"
   ]
  },
  {
   "cell_type": "code",
   "execution_count": 18,
   "id": "322082e2",
   "metadata": {},
   "outputs": [
    {
     "data": {
      "text/plain": [
       "5"
      ]
     },
     "execution_count": 18,
     "metadata": {},
     "output_type": "execute_result"
    }
   ],
   "source": [
    "fila_priori2.quantidade()"
   ]
  },
  {
   "cell_type": "code",
   "execution_count": null,
   "id": "83552409",
   "metadata": {},
   "outputs": [],
   "source": []
  },
  {
   "cell_type": "code",
   "execution_count": null,
   "id": "b1e8901d",
   "metadata": {},
   "outputs": [],
   "source": [
    "# iterar de trás para frente e ao encontrar um elemento cujo risco seja similar ao atual computado, inserir no índice seguinte"
   ]
  },
  {
   "cell_type": "code",
   "execution_count": 28,
   "id": "0627cb09",
   "metadata": {},
   "outputs": [
    {
     "data": {
      "text/plain": [
       "[Nome                            Maria Julia\n",
       " Nascimento                       1941-02-26\n",
       " Prioridade                             True\n",
       " Entrada          2024-10-28 23:29:37.784660\n",
       " Especialidade                         geral\n",
       " TMA                                      15\n",
       " Risco                                     4\n",
       " Idade                                    83\n",
       " Senha                            PE-GERAL-8\n",
       " Name: 8, dtype: object,\n",
       " Nome                                  Luiza\n",
       " Nascimento                       1943-01-25\n",
       " Prioridade                            False\n",
       " Entrada          2024-10-29 16:18:56.784660\n",
       " Especialidade                   cardiologia\n",
       " TMA                                      15\n",
       " Risco                                     1\n",
       " Idade                                    81\n",
       " Senha                           PE-CARDI-20\n",
       " Name: 20, dtype: object,\n",
       " Nome                             Ravi Lucca\n",
       " Nascimento                       1941-06-17\n",
       " Prioridade                            False\n",
       " Entrada          2024-10-28 23:49:03.785660\n",
       " Especialidade                     pediatria\n",
       " TMA                                      15\n",
       " Risco                                     1\n",
       " Idade                                    83\n",
       " Senha                           PE-PEDIA-39\n",
       " Name: 39, dtype: object,\n",
       " Nome                                  Dante\n",
       " Nascimento                       1943-10-19\n",
       " Prioridade                             True\n",
       " Entrada          2024-10-28 16:49:13.785660\n",
       " Especialidade                     pediatria\n",
       " TMA                                      60\n",
       " Risco                                     4\n",
       " Idade                                    81\n",
       " Senha                           PE-PEDIA-53\n",
       " Name: 53, dtype: object,\n",
       " Nome                                   Théo\n",
       " Nascimento                       1941-03-03\n",
       " Prioridade                             True\n",
       " Entrada          2024-10-28 21:28:05.785660\n",
       " Especialidade                  oftalmologia\n",
       " TMA                                      15\n",
       " Risco                                     1\n",
       " Idade                                    83\n",
       " Senha                           PE-OFTAL-60\n",
       " Name: 60, dtype: object]"
      ]
     },
     "execution_count": 28,
     "metadata": {},
     "output_type": "execute_result"
    }
   ],
   "source": [
    "fila_priori2.exibir()"
   ]
  },
  {
   "cell_type": "code",
   "execution_count": 27,
   "id": "a1db2f8b",
   "metadata": {},
   "outputs": [
    {
     "data": {
      "text/plain": [
       "False"
      ]
     },
     "execution_count": 27,
     "metadata": {},
     "output_type": "execute_result"
    }
   ],
   "source": [
    "fila_priori2.exibir()[0]['Risco'] == 0"
   ]
  },
  {
   "cell_type": "code",
   "execution_count": 134,
   "id": "5b2c87d2",
   "metadata": {},
   "outputs": [
    {
     "data": {
      "text/plain": [
       "False"
      ]
     },
     "execution_count": 134,
     "metadata": {},
     "output_type": "execute_result"
    }
   ],
   "source": [
    "risco_new_user in lista_teste"
   ]
  },
  {
   "cell_type": "code",
   "execution_count": 136,
   "id": "6743a5a5",
   "metadata": {},
   "outputs": [
    {
     "name": "stdout",
     "output_type": "stream",
     "text": [
      "\n",
      " 4\n",
      "Théo 1\n",
      "Passando!!!\n",
      "\n",
      " 3\n",
      "Dante 4\n",
      "É menor ou igual, inserindo em  4\n"
     ]
    }
   ],
   "source": [
    "# simulando as inserções na fila, com ajustes baseado no GRAU DE RISCO\n",
    "# aviso: em algum momento, as inserções DEVEM respeitar alguma medida de tempo,\n",
    "# caso contrário riscos de nu 4 (azul), jamais serão atendidos\n",
    "\n",
    "risco_new_user = 4\n",
    "\n",
    "if risco_new_user < 5:\n",
    "    if not fila_priori2.vazio():\n",
    "        for i in range(fila_priori2.quantidade() - 1, -1, -1):\n",
    "            usuario = fila_priori2.exibir()[i]\n",
    "            print('\\n', i)\n",
    "            print(usuario.Nome, usuario.Risco)\n",
    "            if risco_new_user <= usuario.Risco:\n",
    "                print('É menor ou igual, inserindo em ', i+1)\n",
    "                #fila_priori2.inserir(x, i+1)\n",
    "                break\n",
    "\n",
    "            elif i != 0 and risco_new_user > usuario.Risco:\n",
    "                print('Passando!!!')\n",
    "                pass\n",
    "            elif i == 0:\n",
    "                print('Inserir no início', i)\n",
    "                fila_priori2.inserir(x)\n",
    "    else: fila_priori2.inserir(x)\n",
    "else: print('Erro')"
   ]
  },
  {
   "cell_type": "code",
   "execution_count": 124,
   "id": "ed768815",
   "metadata": {},
   "outputs": [
    {
     "data": {
      "text/plain": [
       "False"
      ]
     },
     "execution_count": 124,
     "metadata": {},
     "output_type": "execute_result"
    }
   ],
   "source": [
    "fila_priori2.vazio()"
   ]
  },
  {
   "cell_type": "code",
   "execution_count": 93,
   "id": "899ee150",
   "metadata": {},
   "outputs": [
    {
     "data": {
      "text/plain": [
       "3"
      ]
     },
     "execution_count": 93,
     "metadata": {},
     "output_type": "execute_result"
    }
   ],
   "source": [
    "# lista_teste = [0, 1, 1, 2, 3, 4 ,1, 3, 0, 1, 1, 0, 3, 4]\n",
    "\n",
    "# lista_teste.insert(len(lista_teste) , 8)\n",
    "\n",
    "tamanho = len(lista_teste)\n",
    "lista_teste.count(0)"
   ]
  },
  {
   "cell_type": "code",
   "execution_count": 106,
   "id": "0e6b92dd",
   "metadata": {},
   "outputs": [
    {
     "data": {
      "text/plain": [
       "[0, 1, 17, 7, 1, 2, 3, 4, 1, 3, 0, 1, 1, 0, 3, 4, 9, 9, 0, 8, 0]"
      ]
     },
     "execution_count": 106,
     "metadata": {},
     "output_type": "execute_result"
    }
   ],
   "source": [
    "lista_teste"
   ]
  },
  {
   "cell_type": "code",
   "execution_count": 105,
   "id": "3899db30",
   "metadata": {},
   "outputs": [],
   "source": [
    "lista_teste.insert(20, 0)"
   ]
  },
  {
   "cell_type": "markdown",
   "id": "4ba24cbc",
   "metadata": {},
   "source": [
    "#### A se melhorar\n",
    "* evitar dados duplicados em instâncias de objeto Fila()\n",
    "* melhor geração de senha para guichê"
   ]
  },
  {
   "cell_type": "markdown",
   "id": "205f23f3",
   "metadata": {},
   "source": [
    "fontes:\n",
    "    https://www.camara.leg.br/noticias/630767-PESSOAS-MAIS-IDOSAS-PODERAO-TER-PRIORIDADE-NO-ATENDIMENTO"
   ]
  }
 ],
 "metadata": {
  "kernelspec": {
   "display_name": "Python 3 (ipykernel)",
   "language": "python",
   "name": "python3"
  },
  "language_info": {
   "codemirror_mode": {
    "name": "ipython",
    "version": 3
   },
   "file_extension": ".py",
   "mimetype": "text/x-python",
   "name": "python",
   "nbconvert_exporter": "python",
   "pygments_lexer": "ipython3",
   "version": "3.11.5"
  }
 },
 "nbformat": 4,
 "nbformat_minor": 5
}

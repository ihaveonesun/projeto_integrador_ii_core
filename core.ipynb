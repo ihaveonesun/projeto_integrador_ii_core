{
 "cells": [
  {
   "cell_type": "markdown",
   "id": "2aac7215",
   "metadata": {},
   "source": [
    "algoritmo que: \n",
    "* a gestão de filas de espera em hospitais envolve a classificação de risco e priorização dos pacientes;\n",
    "* monitorar a quantidade de pessoas inscritas e o tempo de espera;\n",
    "* definir a prioridade de atendimento. Cada cor tem um tempo de espera tolerável, que indica a gravidade do caso:\n",
    "    * Vermelho: risco de morte, atendimento imediato;\n",
    "     * Laranja: tempo de espera tolerável de até 10 minutos;\n",
    "    * Amarelo: tempo de espera tolerável de até 20 minutos;\n",
    "    * Verde: não há risco de morte, tempo de espera tolerável de até 60 minutos;\n",
    "    * Azul: quadros crônicos, encaminhamento ao centro de saúde, tempo de espera tolerável de até 180 minutos.\n",
    "* organize a agenda de pacientes, devendo considerar:\n",
    "    * o número de consultas marcadas;\n",
    "    * o tempo médio de duração e a previsão de contratempos.\n",
    "* a capacitação dos profissionais de saúde influencia no tamanho das filas."
   ]
  },
  {
   "cell_type": "code",
   "execution_count": null,
   "id": "9c30087d",
   "metadata": {},
   "outputs": [],
   "source": [
    "class Fila():\n",
    "    def __init__(self):\n",
    "        self.data = []\n",
    "\n",
    "    def inserir(self, x):\n",
    "        self.data.append(x)\n",
    "\n",
    "    def remover(self):\n",
    "        if len(self.data) > 0:\n",
    "            return self.data.pop(0)\n",
    "\n",
    "    def top(self):\n",
    "        if len(self.data) > 0:\n",
    "            return self.data[0]\n",
    "\n",
    "    def empty(self):\n",
    "        return not len(self.data) > 0\n",
    "\n",
    "    def exibir(self):\n",
    "        return list(self.data)"
   ]
  }
 ],
 "metadata": {
  "kernelspec": {
   "display_name": "Python 3 (ipykernel)",
   "language": "python",
   "name": "python3"
  },
  "language_info": {
   "codemirror_mode": {
    "name": "ipython",
    "version": 3
   },
   "file_extension": ".py",
   "mimetype": "text/x-python",
   "name": "python",
   "nbconvert_exporter": "python",
   "pygments_lexer": "ipython3",
   "version": "3.11.5"
  }
 },
 "nbformat": 4,
 "nbformat_minor": 5
}

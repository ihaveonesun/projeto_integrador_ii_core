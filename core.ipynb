{
 "cells": [
  {
   "cell_type": "markdown",
   "id": "2aac7215",
   "metadata": {},
   "source": [
    "algoritmo que: \n",
    "* a gestão de filas de espera em hospitais envolve a classificação de risco e priorização dos pacientes;\n",
    "* monitorar a quantidade de pessoas inscritas e o tempo de espera;\n",
    "* definir a prioridade de atendimento. Cada cor tem um tempo de espera tolerável, que indica a gravidade do caso:\n",
    "    * Vermelho: risco de morte, atendimento imediato;\n",
    "     * Laranja: tempo de espera tolerável de até 10 minutos;\n",
    "    * Amarelo: tempo de espera tolerável de até 20 minutos;\n",
    "    * Verde: não há risco de morte, tempo de espera tolerável de até 60 minutos;\n",
    "    * Azul: quadros crônicos, encaminhamento ao centro de saúde, tempo de espera tolerável de até 180 minutos.\n",
    "* organize a agenda de pacientes, devendo considerar:\n",
    "    * o número de consultas marcadas;\n",
    "    * o tempo médio de duração e a previsão de contratempos.\n",
    "* a capacitação dos profissionais de saúde influencia no tamanho das filas."
   ]
  },
  {
   "cell_type": "markdown",
   "id": "47ff7d8a",
   "metadata": {},
   "source": [
    "Em observação à lei abaixo, esta será considerada na implementação do algoritmo:\n",
    "* A Lei 10.048/00 garante atendimento prioritário a idosos com 60 anos ou mais na administração pública.\n",
    "* Também inclui pessoas do seguinte perfil: deficientes, gestantes, lactantes, pessoas com crianças de colo e obesos.\n",
    "* Todavia, indivíduos com idade 80+ tem preferência sob todos os demais."
   ]
  },
  {
   "cell_type": "code",
   "execution_count": 1,
   "id": "6751e4e7",
   "metadata": {},
   "outputs": [],
   "source": [
    "# !pip install faker\n",
    "from faker import Faker\n",
    "import random\n",
    "\n",
    "import time\n",
    "\n",
    "import pandas as pd\n",
    "import datetime"
   ]
  },
  {
   "cell_type": "markdown",
   "id": "739b6e7f",
   "metadata": {},
   "source": [
    "### Gerando dados para teste"
   ]
  },
  {
   "cell_type": "code",
   "execution_count": 3,
   "id": "bf456f66",
   "metadata": {},
   "outputs": [
    {
     "data": {
      "text/html": [
       "<div>\n",
       "<style scoped>\n",
       "    .dataframe tbody tr th:only-of-type {\n",
       "        vertical-align: middle;\n",
       "    }\n",
       "\n",
       "    .dataframe tbody tr th {\n",
       "        vertical-align: top;\n",
       "    }\n",
       "\n",
       "    .dataframe thead th {\n",
       "        text-align: right;\n",
       "    }\n",
       "</style>\n",
       "<table border=\"1\" class=\"dataframe\">\n",
       "  <thead>\n",
       "    <tr style=\"text-align: right;\">\n",
       "      <th></th>\n",
       "      <th>Nome</th>\n",
       "      <th>Nascimento</th>\n",
       "      <th>Prioridade</th>\n",
       "      <th>Entrada</th>\n",
       "      <th>Especialidade</th>\n",
       "      <th>TMA</th>\n",
       "      <th>Risco</th>\n",
       "    </tr>\n",
       "  </thead>\n",
       "  <tbody>\n",
       "    <tr>\n",
       "      <th>0</th>\n",
       "      <td>Caleb</td>\n",
       "      <td>1962-02-26</td>\n",
       "      <td>False</td>\n",
       "      <td>2024-10-26 14:03:24.867562</td>\n",
       "      <td>neurologia</td>\n",
       "      <td>30</td>\n",
       "      <td>vermelho</td>\n",
       "    </tr>\n",
       "    <tr>\n",
       "      <th>1</th>\n",
       "      <td>Maria Fernanda</td>\n",
       "      <td>1991-08-06</td>\n",
       "      <td>True</td>\n",
       "      <td>2024-10-26 03:17:06.867562</td>\n",
       "      <td>oftalmologia</td>\n",
       "      <td>30</td>\n",
       "      <td>azul</td>\n",
       "    </tr>\n",
       "    <tr>\n",
       "      <th>2</th>\n",
       "      <td>Rafael</td>\n",
       "      <td>1947-02-02</td>\n",
       "      <td>False</td>\n",
       "      <td>2024-10-26 01:36:05.867562</td>\n",
       "      <td>neurologia</td>\n",
       "      <td>15</td>\n",
       "      <td>verde</td>\n",
       "    </tr>\n",
       "    <tr>\n",
       "      <th>3</th>\n",
       "      <td>Mathias</td>\n",
       "      <td>1961-09-26</td>\n",
       "      <td>False</td>\n",
       "      <td>2024-10-23 12:11:14.867562</td>\n",
       "      <td>oftalmologia</td>\n",
       "      <td>30</td>\n",
       "      <td>azul</td>\n",
       "    </tr>\n",
       "    <tr>\n",
       "      <th>4</th>\n",
       "      <td>Antônio</td>\n",
       "      <td>1996-01-29</td>\n",
       "      <td>False</td>\n",
       "      <td>2024-10-23 03:12:50.867562</td>\n",
       "      <td>dermatologia</td>\n",
       "      <td>30</td>\n",
       "      <td>amarelo</td>\n",
       "    </tr>\n",
       "    <tr>\n",
       "      <th>...</th>\n",
       "      <td>...</td>\n",
       "      <td>...</td>\n",
       "      <td>...</td>\n",
       "      <td>...</td>\n",
       "      <td>...</td>\n",
       "      <td>...</td>\n",
       "      <td>...</td>\n",
       "    </tr>\n",
       "    <tr>\n",
       "      <th>95</th>\n",
       "      <td>Mariah</td>\n",
       "      <td>1953-08-12</td>\n",
       "      <td>True</td>\n",
       "      <td>2024-10-28 07:38:17.870613</td>\n",
       "      <td>geral</td>\n",
       "      <td>45</td>\n",
       "      <td>azul</td>\n",
       "    </tr>\n",
       "    <tr>\n",
       "      <th>96</th>\n",
       "      <td>Manuela</td>\n",
       "      <td>1954-09-25</td>\n",
       "      <td>True</td>\n",
       "      <td>2024-10-24 10:17:35.870613</td>\n",
       "      <td>pediatria</td>\n",
       "      <td>30</td>\n",
       "      <td>laranja</td>\n",
       "    </tr>\n",
       "    <tr>\n",
       "      <th>97</th>\n",
       "      <td>Guilherme</td>\n",
       "      <td>2003-09-10</td>\n",
       "      <td>True</td>\n",
       "      <td>2024-10-27 16:15:41.870613</td>\n",
       "      <td>cardiologia</td>\n",
       "      <td>60</td>\n",
       "      <td>verde</td>\n",
       "    </tr>\n",
       "    <tr>\n",
       "      <th>98</th>\n",
       "      <td>Julia</td>\n",
       "      <td>1947-08-14</td>\n",
       "      <td>True</td>\n",
       "      <td>2024-10-27 17:37:56.870613</td>\n",
       "      <td>dermatologia</td>\n",
       "      <td>45</td>\n",
       "      <td>vermelho</td>\n",
       "    </tr>\n",
       "    <tr>\n",
       "      <th>99</th>\n",
       "      <td>Brayan</td>\n",
       "      <td>1972-05-17</td>\n",
       "      <td>True</td>\n",
       "      <td>2024-10-27 00:05:25.870613</td>\n",
       "      <td>dermatologia</td>\n",
       "      <td>45</td>\n",
       "      <td>vermelho</td>\n",
       "    </tr>\n",
       "  </tbody>\n",
       "</table>\n",
       "<p>100 rows × 7 columns</p>\n",
       "</div>"
      ],
      "text/plain": [
       "              Nome  Nascimento  Prioridade                    Entrada  \\\n",
       "0            Caleb  1962-02-26       False 2024-10-26 14:03:24.867562   \n",
       "1   Maria Fernanda  1991-08-06        True 2024-10-26 03:17:06.867562   \n",
       "2           Rafael  1947-02-02       False 2024-10-26 01:36:05.867562   \n",
       "3          Mathias  1961-09-26       False 2024-10-23 12:11:14.867562   \n",
       "4          Antônio  1996-01-29       False 2024-10-23 03:12:50.867562   \n",
       "..             ...         ...         ...                        ...   \n",
       "95          Mariah  1953-08-12        True 2024-10-28 07:38:17.870613   \n",
       "96         Manuela  1954-09-25        True 2024-10-24 10:17:35.870613   \n",
       "97       Guilherme  2003-09-10        True 2024-10-27 16:15:41.870613   \n",
       "98           Julia  1947-08-14        True 2024-10-27 17:37:56.870613   \n",
       "99          Brayan  1972-05-17        True 2024-10-27 00:05:25.870613   \n",
       "\n",
       "   Especialidade  TMA     Risco  \n",
       "0     neurologia   30  vermelho  \n",
       "1   oftalmologia   30      azul  \n",
       "2     neurologia   15     verde  \n",
       "3   oftalmologia   30      azul  \n",
       "4   dermatologia   30   amarelo  \n",
       "..           ...  ...       ...  \n",
       "95         geral   45      azul  \n",
       "96     pediatria   30   laranja  \n",
       "97   cardiologia   60     verde  \n",
       "98  dermatologia   45  vermelho  \n",
       "99  dermatologia   45  vermelho  \n",
       "\n",
       "[100 rows x 7 columns]"
      ]
     },
     "execution_count": 3,
     "metadata": {},
     "output_type": "execute_result"
    }
   ],
   "source": [
    "# Inicializando o Faker e configurando para nomes em português\n",
    "fake = Faker(\"pt_BR\")\n",
    "\n",
    "# Inicializando as listas\n",
    "\n",
    "lista_nomes = []          # string: primeiro nome\n",
    "lista_dt_nascimento = []  # date: a data de nascimento\n",
    "lista_prioridade = []     # bool: False para NÃO; True para SIM\n",
    "lista_dt_entrada = []     # datetime, indicando o horário de cadastro\n",
    "lista_especialidade = []  # string: especialidade médica (geral, neurologia, oftalmologista etc)\n",
    "lista_tma = []            # int: minutos com o tempo médio de atendimento para cada especialidade\n",
    "lista_class_risco = []    # string: vermelho, laranja, amarelo, verde, azul\n",
    "\n",
    "lista_colunas = ['Nome', 'Nascimento', 'Prioridade', 'Entrada', 'Especialidade', 'TMA', 'Risco']\n",
    "df = pd.DataFrame(columns=lista_colunas)\n",
    "\n",
    "# Opções para os campos\n",
    "especialidades_exemplo = [\"geral\", \"neurologia\", \"oftalmologia\", \"cardiologia\", \"dermatologia\", \"pediatria\"]\n",
    "class_risco_exemplo = [\"vermelho\", \"laranja\", \"amarelo\", \"verde\", \"azul\"]\n",
    "\n",
    "# Função para gerar uma data de nascimento aleatória\n",
    "def gerar_data_nascimento():\n",
    "    start_date = datetime.date(1940, 1, 1)\n",
    "    end_date = datetime.date(2005, 12, 31)\n",
    "    return start_date + datetime.timedelta(days=random.randint(0, (end_date - start_date).days))\n",
    "\n",
    "# Função para gerar uma data de entrada aleatória com horário\n",
    "def gerar_data_entrada():\n",
    "    now = datetime.datetime.now()\n",
    "    delta_days = random.randint(0, 5)\n",
    "    delta_seconds = random.randint(0, 86400)  # Número de segundos no dia\n",
    "    return now - datetime.timedelta(days=delta_days, seconds=delta_seconds)\n",
    "\n",
    "# Populando as listas com 100 registros\n",
    "for _ in range(100):\n",
    "    lista_nomes.append(fake.first_name())  # Gera um primeiro nome aleatório em português\n",
    "    lista_dt_nascimento.append(gerar_data_nascimento())\n",
    "    lista_prioridade.append(random.choice([True, False]))\n",
    "    lista_dt_entrada.append(gerar_data_entrada())\n",
    "    lista_especialidade.append(random.choice(especialidades_exemplo))\n",
    "    lista_tma.append(random.choice([15, 30, 45, 60]))  # Tempo médio de atendimento entre 10 e 60 minutos\n",
    "    lista_class_risco.append(random.choice(class_risco_exemplo))\n",
    "    \n",
    "lista_dados = [lista_nomes, lista_dt_nascimento, lista_prioridade, lista_dt_entrada,\n",
    "               lista_especialidade, lista_tma, lista_class_risco]\n",
    "    \n",
    "for i, coluna in enumerate(lista_colunas):\n",
    "    df[coluna] = lista_dados[i]\n",
    "    \n",
    "df"
   ]
  },
  {
   "cell_type": "markdown",
   "id": "aa2323cc",
   "metadata": {},
   "source": [
    "### Iniciando funções e classes"
   ]
  },
  {
   "cell_type": "code",
   "execution_count": 22,
   "id": "9c30087d",
   "metadata": {},
   "outputs": [],
   "source": [
    "class Fila():\n",
    "    def __init__(self):\n",
    "        self.data = []\n",
    "\n",
    "    def inserir(self, x):\n",
    "        self.data.append(x)\n",
    "\n",
    "    def remover(self):\n",
    "        if len(self.data) > 0:\n",
    "            return self.data.pop(0)\n",
    "\n",
    "    def topo(self):\n",
    "        if len(self.data) > 0:\n",
    "            return self.data[0]\n",
    "\n",
    "    def vazio(self):\n",
    "        return not len(self.data) > 0\n",
    "    \n",
    "    def quantidade(self):\n",
    "        return len(self.data)\n",
    "\n",
    "    def exibir(self):\n",
    "        return list(self.data)\n",
    "    \n",
    "    \n",
    "    \n",
    "def calc_idade(nascido):\n",
    "    \"\"\"\n",
    "    Calcula a idade de um cliente com base na data de nascimento fornecida.\n",
    "\n",
    "    A função calcula a idade atual do cliente subtraindo o ano de nascimento do\n",
    "    ano atual. Ajusta a idade caso o mês e o dia de nascimento ainda não tenham\n",
    "    ocorrido no ano atual.\n",
    "\n",
    "    Parâmetros:\n",
    "    - nascido (datetime.date): A data de nascimento do cliente.\n",
    "\n",
    "    Retorna:\n",
    "    - int: A idade do usuário em anos.\n",
    "    \"\"\"\n",
    "    \n",
    "    now = datetime.datetime.now()\n",
    "    return now.year - nascido.year - ((now.month, now.day) < (nascido.month, nascido.day))"
   ]
  },
  {
   "cell_type": "markdown",
   "id": "ce9e7ced",
   "metadata": {},
   "source": [
    "Há duas, principais, alternativas: \n",
    "1. Trabalhar com uma única fila, e dentro desta operar inserções e remanejos conforme necessário para adequar aos três graus de prioridades.\n",
    "2. Fazer uso de três filas, uma para cada prioridade, mais intuitivo e fácil de implementar.\n",
    "\n",
    "Neste primeiro momento, acabarei optando pela segunda alternativa."
   ]
  },
  {
   "cell_type": "code",
   "execution_count": 24,
   "id": "19b43a61",
   "metadata": {},
   "outputs": [],
   "source": [
    "# iniciando cada objeto fila\n",
    "\n",
    "fila_normal = Fila()\n",
    "fila_priori1 = Fila()\n",
    "fila_priori2 = Fila()"
   ]
  },
  {
   "cell_type": "code",
   "execution_count": 25,
   "id": "ec69a8ee",
   "metadata": {},
   "outputs": [],
   "source": [
    "# simulando a inserção de dados em cada fila\n",
    "\n",
    "for row in df.iterrows():    \n",
    "    user = row[1].copy()\n",
    "    idade = calc_idade(user['Nascimento'])\n",
    "    user['Idade'] = idade\n",
    "    senha = str(user['Especialidade'][:5]+'-'+str(row[0])).upper()\n",
    "    if idade >= 80:        \n",
    "        user['Senha'] = 'PE-'+senha    # PE > Prioridade Extra\n",
    "        fila_priori2.inserir(user)\n",
    "    elif idade >= 60 or user.Prioridade:\n",
    "        user['Senha'] = 'P-'+senha\n",
    "        fila_priori1.inserir(user)\n",
    "    else: fila_normal.inserir(user)"
   ]
  },
  {
   "cell_type": "code",
   "execution_count": 26,
   "id": "c3c189e6",
   "metadata": {},
   "outputs": [
    {
     "data": {
      "text/plain": [
       "31"
      ]
     },
     "execution_count": 26,
     "metadata": {},
     "output_type": "execute_result"
    }
   ],
   "source": [
    "fila_normal.quantidade()"
   ]
  },
  {
   "cell_type": "code",
   "execution_count": 27,
   "id": "ada509d8",
   "metadata": {},
   "outputs": [
    {
     "data": {
      "text/plain": [
       "61"
      ]
     },
     "execution_count": 27,
     "metadata": {},
     "output_type": "execute_result"
    }
   ],
   "source": [
    "fila_priori1.quantidade()"
   ]
  },
  {
   "cell_type": "code",
   "execution_count": 28,
   "id": "322082e2",
   "metadata": {},
   "outputs": [
    {
     "data": {
      "text/plain": [
       "8"
      ]
     },
     "execution_count": 28,
     "metadata": {},
     "output_type": "execute_result"
    }
   ],
   "source": [
    "fila_priori2.quantidade()"
   ]
  },
  {
   "cell_type": "code",
   "execution_count": null,
   "id": "a1db2f8b",
   "metadata": {},
   "outputs": [],
   "source": [
    "# ponderar sobre as cores em contraste com as prioridades"
   ]
  },
  {
   "cell_type": "code",
   "execution_count": null,
   "id": "0e6b92dd",
   "metadata": {},
   "outputs": [],
   "source": []
  },
  {
   "cell_type": "markdown",
   "id": "4ba24cbc",
   "metadata": {},
   "source": [
    "#### A se melhorar\n",
    "* evitar dados duplicados em instâncias de objeto Fila()\n",
    "* melhor geração de senha para guichê"
   ]
  },
  {
   "cell_type": "markdown",
   "id": "205f23f3",
   "metadata": {},
   "source": [
    "fontes:\n",
    "    https://www.camara.leg.br/noticias/630767-PESSOAS-MAIS-IDOSAS-PODERAO-TER-PRIORIDADE-NO-ATENDIMENTO"
   ]
  }
 ],
 "metadata": {
  "kernelspec": {
   "display_name": "Python 3 (ipykernel)",
   "language": "python",
   "name": "python3"
  },
  "language_info": {
   "codemirror_mode": {
    "name": "ipython",
    "version": 3
   },
   "file_extension": ".py",
   "mimetype": "text/x-python",
   "name": "python",
   "nbconvert_exporter": "python",
   "pygments_lexer": "ipython3",
   "version": "3.11.5"
  }
 },
 "nbformat": 4,
 "nbformat_minor": 5
}
